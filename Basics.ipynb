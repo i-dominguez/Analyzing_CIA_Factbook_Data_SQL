{
 "cells": [
  {
   "cell_type": "markdown",
   "metadata": {},
   "source": [
    "## Introduction\n",
    "\n",
    "In this project, we'll work with data from the [CIA World Factbook](https://www.cia.gov/the-world-factbook/), a compendium of statistics about all of the countries on Earth. The Factbook contains demographic information like the following:\n",
    "\n",
    "* population — the global population.\n",
    "* population_growth — the annual population growth rate, as a percentage.\n",
    "* area — the total land and water area.\n",
    "\n",
    "In this project, we'll use SQL in Jupyter Notebook to analyze data from this database.\n",
    "\n",
    "We'll use the following code to connect our Jupyter Notebook to our database file:"
   ]
  },
  {
   "cell_type": "code",
   "execution_count": 2,
   "metadata": {},
   "outputs": [
    {
     "name": "stdout",
     "output_type": "stream",
     "text": [
      "Collecting package metadata (current_repodata.json): failed\n",
      "\n",
      "# >>>>>>>>>>>>>>>>>>>>>> ERROR REPORT <<<<<<<<<<<<<<<<<<<<<<\n",
      "\n",
      "    Traceback (most recent call last):\n",
      "      File \"/Users/ivandominguez/opt/anaconda3/lib/python3.9/site-packages/urllib3/response.py\", line 700, in _update_chunk_length\n",
      "        self.chunk_left = int(line, 16)\n",
      "    ValueError: invalid literal for int() with base 16: b''\n",
      "    \n",
      "    During handling of the above exception, another exception occurred:\n",
      "    \n",
      "    Traceback (most recent call last):\n",
      "      File \"/Users/ivandominguez/opt/anaconda3/lib/python3.9/site-packages/urllib3/response.py\", line 441, in _error_catcher\n",
      "        yield\n",
      "      File \"/Users/ivandominguez/opt/anaconda3/lib/python3.9/site-packages/urllib3/response.py\", line 767, in read_chunked\n",
      "        self._update_chunk_length()\n",
      "      File \"/Users/ivandominguez/opt/anaconda3/lib/python3.9/site-packages/urllib3/response.py\", line 704, in _update_chunk_length\n",
      "        raise InvalidChunkLength(self, line)\n",
      "    urllib3.exceptions.InvalidChunkLength: InvalidChunkLength(got length b'', 0 bytes read)\n",
      "    \n",
      "    During handling of the above exception, another exception occurred:\n",
      "    \n",
      "    Traceback (most recent call last):\n",
      "      File \"/Users/ivandominguez/opt/anaconda3/lib/python3.9/site-packages/requests/models.py\", line 760, in generate\n",
      "        for chunk in self.raw.stream(chunk_size, decode_content=True):\n",
      "      File \"/Users/ivandominguez/opt/anaconda3/lib/python3.9/site-packages/urllib3/response.py\", line 575, in stream\n",
      "        for line in self.read_chunked(amt, decode_content=decode_content):\n",
      "      File \"/Users/ivandominguez/opt/anaconda3/lib/python3.9/site-packages/urllib3/response.py\", line 796, in read_chunked\n",
      "        self._original_response.close()\n",
      "      File \"/Users/ivandominguez/opt/anaconda3/lib/python3.9/contextlib.py\", line 137, in __exit__\n",
      "        self.gen.throw(typ, value, traceback)\n",
      "      File \"/Users/ivandominguez/opt/anaconda3/lib/python3.9/site-packages/urllib3/response.py\", line 458, in _error_catcher\n",
      "        raise ProtocolError(\"Connection broken: %r\" % e, e)\n",
      "    urllib3.exceptions.ProtocolError: (\"Connection broken: InvalidChunkLength(got length b'', 0 bytes read)\", InvalidChunkLength(got length b'', 0 bytes read))\n",
      "    \n",
      "    During handling of the above exception, another exception occurred:\n",
      "    \n",
      "    Traceback (most recent call last):\n",
      "      File \"/Users/ivandominguez/opt/anaconda3/lib/python3.9/site-packages/conda/exceptions.py\", line 1129, in __call__\n",
      "        return func(*args, **kwargs)\n",
      "      File \"/Users/ivandominguez/opt/anaconda3/lib/python3.9/site-packages/conda/cli/main.py\", line 86, in main_subshell\n",
      "        exit_code = do_call(args, p)\n",
      "      File \"/Users/ivandominguez/opt/anaconda3/lib/python3.9/site-packages/conda/cli/conda_argparse.py\", line 93, in do_call\n",
      "        return getattr(module, func_name)(args, parser)\n",
      "      File \"/Users/ivandominguez/opt/anaconda3/lib/python3.9/site-packages/conda/notices/core.py\", line 72, in wrapper\n",
      "        return_value = func(*args, **kwargs)\n",
      "      File \"/Users/ivandominguez/opt/anaconda3/lib/python3.9/site-packages/conda/cli/main_install.py\", line 22, in execute\n",
      "        install(args, parser, 'install')\n",
      "      File \"/Users/ivandominguez/opt/anaconda3/lib/python3.9/site-packages/conda/cli/install.py\", line 261, in install\n",
      "        unlink_link_transaction = solver.solve_for_transaction(\n",
      "      File \"/Users/ivandominguez/opt/anaconda3/lib/python3.9/site-packages/conda/core/solve.py\", line 156, in solve_for_transaction\n",
      "        unlink_precs, link_precs = self.solve_for_diff(update_modifier, deps_modifier,\n",
      "      File \"/Users/ivandominguez/opt/anaconda3/lib/python3.9/site-packages/conda/core/solve.py\", line 199, in solve_for_diff\n",
      "        final_precs = self.solve_final_state(update_modifier, deps_modifier, prune, ignore_pinned,\n",
      "      File \"/Users/ivandominguez/opt/anaconda3/lib/python3.9/site-packages/conda/core/solve.py\", line 304, in solve_final_state\n",
      "        ssc = self._collect_all_metadata(ssc)\n",
      "      File \"/Users/ivandominguez/opt/anaconda3/lib/python3.9/site-packages/conda/common/io.py\", line 86, in decorated\n",
      "        return f(*args, **kwds)\n",
      "      File \"/Users/ivandominguez/opt/anaconda3/lib/python3.9/site-packages/conda/core/solve.py\", line 467, in _collect_all_metadata\n",
      "        index, r = self._prepare(prepared_specs)\n",
      "      File \"/Users/ivandominguez/opt/anaconda3/lib/python3.9/site-packages/conda/core/solve.py\", line 1061, in _prepare\n",
      "        reduced_index = get_reduced_index(self.prefix, self.channels,\n",
      "      File \"/Users/ivandominguez/opt/anaconda3/lib/python3.9/site-packages/conda/core/index.py\", line 301, in get_reduced_index\n",
      "        new_records = SubdirData.query_all(spec, channels=channels, subdirs=subdirs,\n",
      "      File \"/Users/ivandominguez/opt/anaconda3/lib/python3.9/site-packages/conda/core/subdir_data.py\", line 137, in query_all\n",
      "        result = tuple(concat(executor.map(subdir_query, channel_urls)))\n",
      "      File \"/Users/ivandominguez/opt/anaconda3/lib/python3.9/concurrent/futures/_base.py\", line 609, in result_iterator\n",
      "        yield fs.pop().result()\n",
      "      File \"/Users/ivandominguez/opt/anaconda3/lib/python3.9/concurrent/futures/_base.py\", line 439, in result\n",
      "        return self.__get_result()\n",
      "      File \"/Users/ivandominguez/opt/anaconda3/lib/python3.9/concurrent/futures/_base.py\", line 391, in __get_result\n",
      "        raise self._exception\n",
      "      File \"/Users/ivandominguez/opt/anaconda3/lib/python3.9/concurrent/futures/thread.py\", line 58, in run\n",
      "        result = self.fn(*self.args, **self.kwargs)\n",
      "      File \"/Users/ivandominguez/opt/anaconda3/lib/python3.9/site-packages/conda/core/subdir_data.py\", line 129, in <lambda>\n",
      "        subdir_query = lambda url: tuple(SubdirData(Channel(url), repodata_fn=repodata_fn).query(\n",
      "      File \"/Users/ivandominguez/opt/anaconda3/lib/python3.9/site-packages/conda/core/subdir_data.py\", line 142, in query\n",
      "        self.load()\n",
      "      File \"/Users/ivandominguez/opt/anaconda3/lib/python3.9/site-packages/conda/core/subdir_data.py\", line 207, in load\n",
      "        _internal_state = self._load()\n",
      "      File \"/Users/ivandominguez/opt/anaconda3/lib/python3.9/site-packages/conda/core/subdir_data.py\", line 277, in _load\n",
      "        raw_repodata_str = fetch_repodata_remote_request(\n",
      "      File \"/Users/ivandominguez/opt/anaconda3/lib/python3.9/site-packages/conda/core/subdir_data.py\", line 527, in fetch_repodata_remote_request\n",
      "        resp = session.get(join_url(url, filename), headers=headers, proxies=session.proxies,\n",
      "      File \"/Users/ivandominguez/opt/anaconda3/lib/python3.9/site-packages/requests/sessions.py\", line 542, in get\n",
      "        return self.request('GET', url, **kwargs)\n",
      "      File \"/Users/ivandominguez/opt/anaconda3/lib/python3.9/site-packages/requests/sessions.py\", line 529, in request\n",
      "        resp = self.send(prep, **send_kwargs)\n",
      "      File \"/Users/ivandominguez/opt/anaconda3/lib/python3.9/site-packages/requests/sessions.py\", line 687, in send\n",
      "        r.content\n",
      "      File \"/Users/ivandominguez/opt/anaconda3/lib/python3.9/site-packages/requests/models.py\", line 838, in content\n",
      "        self._content = b''.join(self.iter_content(CONTENT_CHUNK_SIZE)) or b''\n",
      "      File \"/Users/ivandominguez/opt/anaconda3/lib/python3.9/site-packages/requests/models.py\", line 763, in generate\n",
      "        raise ChunkedEncodingError(e)\n",
      "    requests.exceptions.ChunkedEncodingError: (\"Connection broken: InvalidChunkLength(got length b'', 0 bytes read)\", InvalidChunkLength(got length b'', 0 bytes read))\n",
      "\n",
      "`$ /Users/ivandominguez/opt/anaconda3/bin/conda install -yc conda-forge ipython-sql`\n",
      "\n",
      "  environment variables:\n",
      "                 CIO_TEST=<not set>\n",
      "        CONDA_DEFAULT_ENV=base\n",
      "                CONDA_EXE=/Users/ivandominguez/opt/anaconda3/bin/conda\n",
      "             CONDA_PREFIX=/Users/ivandominguez/opt/anaconda3\n",
      "           CONDA_PREFIX_1=/Users/ivandominguez/miniforge3\n",
      "    CONDA_PROMPT_MODIFIER=(base)\n",
      "         CONDA_PYTHON_EXE=/Users/ivandominguez/opt/anaconda3/bin/python\n",
      "               CONDA_ROOT=/Users/ivandominguez/opt/anaconda3\n",
      "              CONDA_SHLVL=1\n",
      "                    CPATH=/usr/local/include\n",
      "           CURL_CA_BUNDLE=<not set>\n",
      "                 INFOPATH=/opt/homebrew/share/info:/opt/homebrew/share/info:\n",
      "             JUPYTER_PATH=/Users/ivandominguez/.vscode/extensions/ms-\n",
      "                          toolsai.jupyter-2022.4.1021342353/temp/jupyter\n",
      "             LIBRARY_PATH=/usr/local/lib\n",
      "                  MANPATH=/opt/homebrew/share/man:/usr/share/man:/usr/local/share/man:/opt/homeb\n",
      "                          rew/share/man:\n",
      "                     PATH=/Users/ivandominguez/opt/anaconda3/bin:/Users/ivandominguez/opt/anacon\n",
      "                          da3/bin:/Users/ivandominguez/opt/anaconda3/bin:/Users/ivandominguez/op\n",
      "                          t/anaconda3/bin:/Users/ivandominguez/opt/anaconda3/bin:/Users/ivandomi\n",
      "                          nguez/opt/anaconda3/bin:/Users/ivandominguez/opt/anaconda3/bin:/Users/\n",
      "                          ivandominguez/opt/anaconda3/bin:/Users/ivandominguez/opt/anaconda3/bin\n",
      "                          :/Users/ivandominguez/opt/anaconda3/bin:/Users/ivandominguez/opt/anaco\n",
      "                          nda3/bin:/Users/ivandominguez/opt/anaconda3/bin:/Users/ivandominguez/o\n",
      "                          pt/anaconda3/bin:/Users/ivandominguez/opt/anaconda3/bin:/Users/ivandom\n",
      "                          inguez/opt/anaconda3/bin:/Users/ivandominguez/opt/anaconda3/bin:/Users\n",
      "                          /ivandominguez/opt/anaconda3/bin:/Users/ivandominguez/opt/anaconda3/bi\n",
      "                          n:/Users/ivandominguez/opt/anaconda3/bin:/Users/ivandominguez/opt/anac\n",
      "                          onda3/bin:/Users/ivandominguez/opt/anaconda3/bin:/Users/ivandominguez/\n",
      "                          opt/anaconda3/bin:/Users/ivandominguez/opt/anaconda3/bin:/Users/ivando\n",
      "                          minguez/opt/anaconda3/bin:/Users/ivandominguez/opt/anaconda3/bin:/User\n",
      "                          s/ivandominguez/opt/anaconda3/bin:/Users/ivandominguez/opt/anaconda3/b\n",
      "                          in:/Users/ivandominguez/opt/anaconda3/bin:/Users/ivandominguez/opt/ana\n",
      "                          conda3/bin:/Users/ivandominguez/opt/anaconda3/bin:/Users/ivandominguez\n",
      "                          /opt/anaconda3/bin:/Users/ivandominguez/opt/anaconda3/bin:/Users/ivand\n",
      "                          ominguez/opt/anaconda3/bin:/Users/ivandominguez/opt/anaconda3/bin:/Use\n",
      "                          rs/ivandominguez/opt/anaconda3/bin:/Users/ivandominguez/opt/anaconda3/\n",
      "                          bin:/Users/ivandominguez/opt/anaconda3/bin:/Users/ivandominguez/opt/an\n",
      "                          aconda3/bin:/Users/ivandominguez/opt/anaconda3/bin:/Users/ivandomingue\n",
      "                          z/opt/anaconda3/bin:/Users/ivandominguez/opt/anaconda3/bin:/Users/ivan\n",
      "                          dominguez/opt/anaconda3/bin:/Users/ivandominguez/opt/anaconda3/bin:/Us\n",
      "                          ers/ivandominguez/opt/anaconda3/bin:/Users/ivandominguez/opt/anaconda3\n",
      "                          /bin:/Users/ivandominguez/opt/anaconda3/bin:/Users/ivandominguez/opt/a\n",
      "                          naconda3/bin:/Users/ivandominguez/opt/anaconda3/bin:/Users/ivandomingu\n",
      "                          ez/opt/anaconda3/bin:/Users/ivandominguez/opt/anaconda3/bin:/Users/iva\n",
      "                          ndominguez/opt/anaconda3/bin:/Users/ivandominguez/opt/anaconda3/bin:/U\n",
      "                          sers/ivandominguez/opt/anaconda3/bin:/Users/ivandominguez/opt/anaconda\n",
      "                          3/bin:/Users/ivandominguez/opt/anaconda3/bin:/Users/ivandominguez/opt/\n",
      "                          anaconda3/bin:/Users/ivandominguez/opt/anaconda3/bin:/Users/ivandoming\n",
      "                          uez/opt/anaconda3/bin:/Users/ivandominguez/opt/anaconda3/bin:/Users/iv\n",
      "                          andominguez/opt/anaconda3/bin:/Users/ivandominguez/opt/anaconda3/bin:/\n",
      "                          Users/ivandominguez/opt/anaconda3/bin:/Users/ivandominguez/opt/anacond\n",
      "                          a3/bin:/Users/ivandominguez/opt/anaconda3/bin:/opt/homebrew/bin:/opt/h\n",
      "                          omebrew/sbin:/usr/local/bin:/usr/bin:/bin:/usr/sbin:/sbin:/Library/App\n",
      "                          le/usr/bin:/Users/ivandominguez/opt/anaconda3/bin:/Users/ivandominguez\n",
      "                          /opt/anaconda3/condabin:/opt/homebrew/bin:/opt/homebrew/sbin\n",
      "         PYTHONIOENCODING=utf-8\n",
      "         PYTHONNOUSERSITE=True\n",
      "               PYTHONPATH=/Users/ivandominguez/.vscode/extensions/ms-toolsai.jupyter-2022.4.1021\n",
      "                          342353/pythonFiles:/Users/ivandominguez/.vscode/extensions/ms-\n",
      "                          toolsai.jupyter-2022.4.1021342353/pythonFiles/lib/python\n",
      "         PYTHONUNBUFFERED=1\n",
      "       REQUESTS_CA_BUNDLE=<not set>\n",
      "            SSL_CERT_FILE=<not set>\n",
      "   VSCODE_CODE_CACHE_PATH=/Users/ivandominguez/Library/Application\n",
      "                          Support/Code/CachedData/c3511e6c69bb39013c4a4b7b9566ec1ca73fc4d5\n",
      "\n",
      "     active environment : base\n",
      "    active env location : /Users/ivandominguez/opt/anaconda3\n",
      "            shell level : 1\n",
      "       user config file : /Users/ivandominguez/.condarc\n",
      " populated config files : /Users/ivandominguez/.condarc\n",
      "          conda version : 22.9.0\n",
      "    conda-build version : 3.21.8\n",
      "         python version : 3.9.12.final.0\n",
      "       virtual packages : __osx=10.16=0\n",
      "                          __unix=0=0\n",
      "                          __archspec=1=x86_64\n",
      "       base environment : /Users/ivandominguez/opt/anaconda3  (writable)\n",
      "      conda av data dir : /Users/ivandominguez/opt/anaconda3/etc/conda\n",
      "  conda av metadata url : None\n",
      "           channel URLs : https://conda.anaconda.org/conda-forge/osx-64\n",
      "                          https://conda.anaconda.org/conda-forge/noarch\n",
      "                          https://repo.anaconda.com/pkgs/main/osx-64\n",
      "                          https://repo.anaconda.com/pkgs/main/noarch\n",
      "                          https://repo.anaconda.com/pkgs/r/osx-64\n",
      "                          https://repo.anaconda.com/pkgs/r/noarch\n",
      "          package cache : /Users/ivandominguez/opt/anaconda3/pkgs\n",
      "                          /Users/ivandominguez/.conda/pkgs\n",
      "       envs directories : /Users/ivandominguez/opt/anaconda3/envs\n",
      "                          /Users/ivandominguez/.conda/envs\n",
      "               platform : osx-64\n",
      "             user-agent : conda/22.9.0 requests/2.27.1 CPython/3.9.12 Darwin/21.6.0 OSX/10.16\n",
      "                UID:GID : 501:20\n",
      "             netrc file : /Users/ivandominguez/.netrc\n",
      "           offline mode : False\n",
      "\n",
      "\n",
      "An unexpected error has occurred. Conda has prepared the above report.\n",
      "\n",
      "Upload successful.\n"
     ]
    }
   ],
   "source": [
    "!conda install -yc conda-forge ipython-sql"
   ]
  },
  {
   "cell_type": "code",
   "execution_count": 3,
   "metadata": {},
   "outputs": [],
   "source": [
    "import sqlite3 as sql"
   ]
  },
  {
   "cell_type": "code",
   "execution_count": 4,
   "metadata": {},
   "outputs": [],
   "source": [
    "%%capture\n",
    "%load_ext sql\n",
    "%sql sqlite:///factbook.db"
   ]
  },
  {
   "cell_type": "markdown",
   "metadata": {},
   "source": [
    "As a next step, we'll query the database to return information on the tables it contains."
   ]
  },
  {
   "cell_type": "code",
   "execution_count": 5,
   "metadata": {},
   "outputs": [
    {
     "name": "stdout",
     "output_type": "stream",
     "text": [
      " * sqlite:///factbook.db\n",
      "Done.\n"
     ]
    },
    {
     "data": {
      "text/html": [
       "<table>\n",
       "    <thead>\n",
       "        <tr>\n",
       "            <th>type</th>\n",
       "            <th>name</th>\n",
       "            <th>tbl_name</th>\n",
       "            <th>rootpage</th>\n",
       "            <th>sql</th>\n",
       "        </tr>\n",
       "    </thead>\n",
       "    <tbody>\n",
       "        <tr>\n",
       "            <td>table</td>\n",
       "            <td>sqlite_sequence</td>\n",
       "            <td>sqlite_sequence</td>\n",
       "            <td>3</td>\n",
       "            <td>CREATE TABLE sqlite_sequence(name,seq)</td>\n",
       "        </tr>\n",
       "        <tr>\n",
       "            <td>table</td>\n",
       "            <td>facts</td>\n",
       "            <td>facts</td>\n",
       "            <td>47</td>\n",
       "            <td>CREATE TABLE &quot;facts&quot; (&quot;id&quot; INTEGER PRIMARY KEY AUTOINCREMENT NOT NULL, &quot;code&quot; varchar(255) NOT NULL, &quot;name&quot; varchar(255) NOT NULL, &quot;area&quot; integer, &quot;area_land&quot; integer, &quot;area_water&quot; integer, &quot;population&quot; integer, &quot;population_growth&quot; float, &quot;birth_rate&quot; float, &quot;death_rate&quot; float, &quot;migration_rate&quot; float)</td>\n",
       "        </tr>\n",
       "    </tbody>\n",
       "</table>"
      ],
      "text/plain": [
       "[('table', 'sqlite_sequence', 'sqlite_sequence', 3, 'CREATE TABLE sqlite_sequence(name,seq)'),\n",
       " ('table', 'facts', 'facts', 47, 'CREATE TABLE \"facts\" (\"id\" INTEGER PRIMARY KEY AUTOINCREMENT NOT NULL, \"code\" varchar(255) NOT NULL, \"name\" varchar(255) NOT NULL, \"area\" integer, \"a ... (4 characters truncated) ... land\" integer, \"area_water\" integer, \"population\" integer, \"population_growth\" float, \"birth_rate\" float, \"death_rate\" float, \"migration_rate\" float)')]"
      ]
     },
     "execution_count": 5,
     "metadata": {},
     "output_type": "execute_result"
    }
   ],
   "source": [
    "%%sql\n",
    "SELECT *\n",
    "  FROM sqlite_master\n",
    " WHERE type='table';"
   ]
  },
  {
   "cell_type": "markdown",
   "metadata": {},
   "source": [
    "## Overview of the data\n",
    "\n",
    "Now that we know in which table we'll find the data that interests us, we can start by a query that will give us a sense of what the data looks like."
   ]
  },
  {
   "cell_type": "code",
   "execution_count": 6,
   "metadata": {
    "scrolled": true
   },
   "outputs": [
    {
     "name": "stdout",
     "output_type": "stream",
     "text": [
      " * sqlite:///factbook.db\n",
      "Done.\n"
     ]
    },
    {
     "data": {
      "text/html": [
       "<table>\n",
       "    <thead>\n",
       "        <tr>\n",
       "            <th>id</th>\n",
       "            <th>code</th>\n",
       "            <th>name</th>\n",
       "            <th>area</th>\n",
       "            <th>area_land</th>\n",
       "            <th>area_water</th>\n",
       "            <th>population</th>\n",
       "            <th>population_growth</th>\n",
       "            <th>birth_rate</th>\n",
       "            <th>death_rate</th>\n",
       "            <th>migration_rate</th>\n",
       "        </tr>\n",
       "    </thead>\n",
       "    <tbody>\n",
       "        <tr>\n",
       "            <td>1</td>\n",
       "            <td>af</td>\n",
       "            <td>Afghanistan</td>\n",
       "            <td>652230</td>\n",
       "            <td>652230</td>\n",
       "            <td>0</td>\n",
       "            <td>32564342</td>\n",
       "            <td>2.32</td>\n",
       "            <td>38.57</td>\n",
       "            <td>13.89</td>\n",
       "            <td>1.51</td>\n",
       "        </tr>\n",
       "        <tr>\n",
       "            <td>2</td>\n",
       "            <td>al</td>\n",
       "            <td>Albania</td>\n",
       "            <td>28748</td>\n",
       "            <td>27398</td>\n",
       "            <td>1350</td>\n",
       "            <td>3029278</td>\n",
       "            <td>0.3</td>\n",
       "            <td>12.92</td>\n",
       "            <td>6.58</td>\n",
       "            <td>3.3</td>\n",
       "        </tr>\n",
       "        <tr>\n",
       "            <td>3</td>\n",
       "            <td>ag</td>\n",
       "            <td>Algeria</td>\n",
       "            <td>2381741</td>\n",
       "            <td>2381741</td>\n",
       "            <td>0</td>\n",
       "            <td>39542166</td>\n",
       "            <td>1.84</td>\n",
       "            <td>23.67</td>\n",
       "            <td>4.31</td>\n",
       "            <td>0.92</td>\n",
       "        </tr>\n",
       "        <tr>\n",
       "            <td>4</td>\n",
       "            <td>an</td>\n",
       "            <td>Andorra</td>\n",
       "            <td>468</td>\n",
       "            <td>468</td>\n",
       "            <td>0</td>\n",
       "            <td>85580</td>\n",
       "            <td>0.12</td>\n",
       "            <td>8.13</td>\n",
       "            <td>6.96</td>\n",
       "            <td>0.0</td>\n",
       "        </tr>\n",
       "        <tr>\n",
       "            <td>5</td>\n",
       "            <td>ao</td>\n",
       "            <td>Angola</td>\n",
       "            <td>1246700</td>\n",
       "            <td>1246700</td>\n",
       "            <td>0</td>\n",
       "            <td>19625353</td>\n",
       "            <td>2.78</td>\n",
       "            <td>38.78</td>\n",
       "            <td>11.49</td>\n",
       "            <td>0.46</td>\n",
       "        </tr>\n",
       "    </tbody>\n",
       "</table>"
      ],
      "text/plain": [
       "[(1, 'af', 'Afghanistan', 652230, 652230, 0, 32564342, 2.32, 38.57, 13.89, 1.51),\n",
       " (2, 'al', 'Albania', 28748, 27398, 1350, 3029278, 0.3, 12.92, 6.58, 3.3),\n",
       " (3, 'ag', 'Algeria', 2381741, 2381741, 0, 39542166, 1.84, 23.67, 4.31, 0.92),\n",
       " (4, 'an', 'Andorra', 468, 468, 0, 85580, 0.12, 8.13, 6.96, 0.0),\n",
       " (5, 'ao', 'Angola', 1246700, 1246700, 0, 19625353, 2.78, 38.78, 11.49, 0.46)]"
      ]
     },
     "execution_count": 6,
     "metadata": {},
     "output_type": "execute_result"
    }
   ],
   "source": [
    "%%sql\n",
    "SELECT *\n",
    "  FROM facts\n",
    "LIMIT 5;"
   ]
  },
  {
   "cell_type": "markdown",
   "metadata": {},
   "source": [
    "Here are the descriptions for some of the columns:\n",
    "\n",
    "* name - The name of the country.\n",
    "* area - The total land and sea area of the country.\n",
    "* population - The country's population.\n",
    "* population_growth- The country's population growth as a percentage.\n",
    "* birth_rate - The country's birth rate, or the number of births a year per 1,000 people.\n",
    "* death_rate - The country's death rate, or the number of death a year per 1,000 people.\n",
    "* area- The country's total area (both land and water).\n",
    "* area_land - The country's land area in square kilometers.\n",
    "* area_water - The country's waterarea in square kilometers.\n",
    "\n",
    "Let's start by calculating some summary statistics and see what they tell us.\n",
    "\n",
    "## Summary statistics"
   ]
  },
  {
   "cell_type": "code",
   "execution_count": 7,
   "metadata": {},
   "outputs": [
    {
     "name": "stdout",
     "output_type": "stream",
     "text": [
      " * sqlite:///factbook.db\n",
      "Done.\n"
     ]
    },
    {
     "data": {
      "text/html": [
       "<table>\n",
       "    <thead>\n",
       "        <tr>\n",
       "            <th>min_pop</th>\n",
       "            <th>max_pop</th>\n",
       "            <th>min_pop_growth</th>\n",
       "            <th>max_pop_growth</th>\n",
       "        </tr>\n",
       "    </thead>\n",
       "    <tbody>\n",
       "        <tr>\n",
       "            <td>0</td>\n",
       "            <td>7256490011</td>\n",
       "            <td>0.0</td>\n",
       "            <td>4.02</td>\n",
       "        </tr>\n",
       "    </tbody>\n",
       "</table>"
      ],
      "text/plain": [
       "[(0, 7256490011, 0.0, 4.02)]"
      ]
     },
     "execution_count": 7,
     "metadata": {},
     "output_type": "execute_result"
    }
   ],
   "source": [
    "%%sql\n",
    "SELECT MIN(population) AS min_pop,\n",
    "       MAX(population) AS max_pop,\n",
    "       MIN(population_growth) AS min_pop_growth,\n",
    "       MAX(population_growth) max_pop_growth \n",
    "  FROM facts;"
   ]
  },
  {
   "cell_type": "markdown",
   "metadata": {
    "collapsed": true
   },
   "source": [
    "A few things stick out from the summary statistics in the last screen:\n",
    "\n",
    "* There's a country with a population of 0\n",
    "* There's a country with a population of 7256490011 (or more than 7.2 billion people)\n",
    "\n",
    "Let's use subqueries to zoom in on just these countries *without* using the specific values.\n",
    "\n",
    "## Exploring Outliers"
   ]
  },
  {
   "cell_type": "code",
   "execution_count": 8,
   "metadata": {},
   "outputs": [
    {
     "name": "stdout",
     "output_type": "stream",
     "text": [
      " * sqlite:///factbook.db\n",
      "Done.\n"
     ]
    },
    {
     "data": {
      "text/html": [
       "<table>\n",
       "    <thead>\n",
       "        <tr>\n",
       "            <th>id</th>\n",
       "            <th>code</th>\n",
       "            <th>name</th>\n",
       "            <th>area</th>\n",
       "            <th>area_land</th>\n",
       "            <th>area_water</th>\n",
       "            <th>population</th>\n",
       "            <th>population_growth</th>\n",
       "            <th>birth_rate</th>\n",
       "            <th>death_rate</th>\n",
       "            <th>migration_rate</th>\n",
       "        </tr>\n",
       "    </thead>\n",
       "    <tbody>\n",
       "        <tr>\n",
       "            <td>250</td>\n",
       "            <td>ay</td>\n",
       "            <td>Antarctica</td>\n",
       "            <td>None</td>\n",
       "            <td>280000</td>\n",
       "            <td>None</td>\n",
       "            <td>0</td>\n",
       "            <td>None</td>\n",
       "            <td>None</td>\n",
       "            <td>None</td>\n",
       "            <td>None</td>\n",
       "        </tr>\n",
       "    </tbody>\n",
       "</table>"
      ],
      "text/plain": [
       "[(250, 'ay', 'Antarctica', None, 280000, None, 0, None, None, None, None)]"
      ]
     },
     "execution_count": 8,
     "metadata": {},
     "output_type": "execute_result"
    }
   ],
   "source": [
    "%%sql\n",
    "SELECT *\n",
    "  FROM facts\n",
    " WHERE population == (SELECT MIN(population)\n",
    "                        FROM facts\n",
    "                     );"
   ]
  },
  {
   "cell_type": "markdown",
   "metadata": {},
   "source": [
    "It seems like the table contains a row for Antarctica, which explains the population of 0. This seems to match the CIA Factbook [page for Antarctica](https://www.cia.gov/the-world-factbook/countries/antarctica)."
   ]
  },
  {
   "cell_type": "code",
   "execution_count": 9,
   "metadata": {},
   "outputs": [
    {
     "name": "stdout",
     "output_type": "stream",
     "text": [
      " * sqlite:///factbook.db\n",
      "Done.\n"
     ]
    },
    {
     "data": {
      "text/html": [
       "<table>\n",
       "    <thead>\n",
       "        <tr>\n",
       "            <th>id</th>\n",
       "            <th>code</th>\n",
       "            <th>name</th>\n",
       "            <th>area</th>\n",
       "            <th>area_land</th>\n",
       "            <th>area_water</th>\n",
       "            <th>population</th>\n",
       "            <th>population_growth</th>\n",
       "            <th>birth_rate</th>\n",
       "            <th>death_rate</th>\n",
       "            <th>migration_rate</th>\n",
       "        </tr>\n",
       "    </thead>\n",
       "    <tbody>\n",
       "        <tr>\n",
       "            <td>261</td>\n",
       "            <td>xx</td>\n",
       "            <td>World</td>\n",
       "            <td>None</td>\n",
       "            <td>None</td>\n",
       "            <td>None</td>\n",
       "            <td>7256490011</td>\n",
       "            <td>1.08</td>\n",
       "            <td>18.6</td>\n",
       "            <td>7.8</td>\n",
       "            <td>None</td>\n",
       "        </tr>\n",
       "    </tbody>\n",
       "</table>"
      ],
      "text/plain": [
       "[(261, 'xx', 'World', None, None, None, 7256490011, 1.08, 18.6, 7.8, None)]"
      ]
     },
     "execution_count": 9,
     "metadata": {},
     "output_type": "execute_result"
    }
   ],
   "source": [
    "%%sql\n",
    "SELECT *\n",
    "  FROM facts\n",
    " WHERE population == (SELECT MAX(population)\n",
    "                        FROM facts\n",
    "                     );"
   ]
  },
  {
   "cell_type": "markdown",
   "metadata": {},
   "source": [
    "We also see that the table contains a row for the whole world, which explains the maximum population of over 7.2 billion we found earlier.\n",
    "\n",
    "Now that we know this, we should recalculate the summary statistics we calculated earlier, while excluding the row for the whole world.\n",
    "\n",
    "## Summary statistics revisited"
   ]
  },
  {
   "cell_type": "code",
   "execution_count": 10,
   "metadata": {},
   "outputs": [
    {
     "name": "stdout",
     "output_type": "stream",
     "text": [
      " * sqlite:///factbook.db\n",
      "Done.\n"
     ]
    },
    {
     "data": {
      "text/html": [
       "<table>\n",
       "    <thead>\n",
       "        <tr>\n",
       "            <th>min_pop</th>\n",
       "            <th>max_pop</th>\n",
       "            <th>min_pop_growth</th>\n",
       "            <th>max_pop_growth</th>\n",
       "        </tr>\n",
       "    </thead>\n",
       "    <tbody>\n",
       "        <tr>\n",
       "            <td>0</td>\n",
       "            <td>1367485388</td>\n",
       "            <td>0.0</td>\n",
       "            <td>4.02</td>\n",
       "        </tr>\n",
       "    </tbody>\n",
       "</table>"
      ],
      "text/plain": [
       "[(0, 1367485388, 0.0, 4.02)]"
      ]
     },
     "execution_count": 10,
     "metadata": {},
     "output_type": "execute_result"
    }
   ],
   "source": [
    "%%sql\n",
    "SELECT MIN(population) AS min_pop,\n",
    "       MAX(population) AS max_pop,\n",
    "       MIN(population_growth) AS min_pop_growth,\n",
    "       MAX(population_growth) max_pop_growth \n",
    "  FROM facts\n",
    "WHERE name <> 'World';"
   ]
  },
  {
   "cell_type": "markdown",
   "metadata": {},
   "source": [
    "There's a country whose population closes in on 1.4 billion!\n",
    "\n",
    "## Exploring Average Population and Area\n",
    "\n",
    "Let's explore density. Density depends on the population and the country's area. Let's look at the average values for these two columns.\n",
    "\n",
    "We should take care of discarding the row for the whole planet."
   ]
  },
  {
   "cell_type": "code",
   "execution_count": 11,
   "metadata": {},
   "outputs": [
    {
     "name": "stdout",
     "output_type": "stream",
     "text": [
      " * sqlite:///factbook.db\n",
      "Done.\n"
     ]
    },
    {
     "data": {
      "text/html": [
       "<table>\n",
       "    <thead>\n",
       "        <tr>\n",
       "            <th>avg_population</th>\n",
       "            <th>avg_area</th>\n",
       "        </tr>\n",
       "    </thead>\n",
       "    <tbody>\n",
       "        <tr>\n",
       "            <td>32242666.56846473</td>\n",
       "            <td>555093.546184739</td>\n",
       "        </tr>\n",
       "    </tbody>\n",
       "</table>"
      ],
      "text/plain": [
       "[(32242666.56846473, 555093.546184739)]"
      ]
     },
     "execution_count": 11,
     "metadata": {},
     "output_type": "execute_result"
    }
   ],
   "source": [
    "%%sql\n",
    "SELECT AVG(population) AS avg_population, AVG(area) AS avg_area\n",
    "  FROM facts\n",
    " WHERE name <> 'World';"
   ]
  },
  {
   "cell_type": "markdown",
   "metadata": {},
   "source": [
    "We see that the average population is around 32 million and the average area is 555 thousand square kilometers.\n",
    "\n",
    "## Finding Densely Populated Countries\n",
    "\n",
    "To finish, we'll build on the query above to find countries that are densely populated. We'll identify countries that have:\n",
    "\n",
    "* Above average values for population.\n",
    "* Below average values for area."
   ]
  },
  {
   "cell_type": "code",
   "execution_count": 12,
   "metadata": {},
   "outputs": [
    {
     "name": "stdout",
     "output_type": "stream",
     "text": [
      " * sqlite:///factbook.db\n",
      "Done.\n"
     ]
    },
    {
     "data": {
      "text/html": [
       "<table>\n",
       "    <thead>\n",
       "        <tr>\n",
       "            <th>id</th>\n",
       "            <th>code</th>\n",
       "            <th>name</th>\n",
       "            <th>area</th>\n",
       "            <th>area_land</th>\n",
       "            <th>area_water</th>\n",
       "            <th>population</th>\n",
       "            <th>population_growth</th>\n",
       "            <th>birth_rate</th>\n",
       "            <th>death_rate</th>\n",
       "            <th>migration_rate</th>\n",
       "        </tr>\n",
       "    </thead>\n",
       "    <tbody>\n",
       "        <tr>\n",
       "            <td>14</td>\n",
       "            <td>bg</td>\n",
       "            <td>Bangladesh</td>\n",
       "            <td>148460</td>\n",
       "            <td>130170</td>\n",
       "            <td>18290</td>\n",
       "            <td>168957745</td>\n",
       "            <td>1.6</td>\n",
       "            <td>21.14</td>\n",
       "            <td>5.61</td>\n",
       "            <td>0.46</td>\n",
       "        </tr>\n",
       "        <tr>\n",
       "            <td>65</td>\n",
       "            <td>gm</td>\n",
       "            <td>Germany</td>\n",
       "            <td>357022</td>\n",
       "            <td>348672</td>\n",
       "            <td>8350</td>\n",
       "            <td>80854408</td>\n",
       "            <td>0.17</td>\n",
       "            <td>8.47</td>\n",
       "            <td>11.42</td>\n",
       "            <td>1.24</td>\n",
       "        </tr>\n",
       "        <tr>\n",
       "            <td>80</td>\n",
       "            <td>iz</td>\n",
       "            <td>Iraq</td>\n",
       "            <td>438317</td>\n",
       "            <td>437367</td>\n",
       "            <td>950</td>\n",
       "            <td>37056169</td>\n",
       "            <td>2.93</td>\n",
       "            <td>31.45</td>\n",
       "            <td>3.77</td>\n",
       "            <td>1.62</td>\n",
       "        </tr>\n",
       "        <tr>\n",
       "            <td>83</td>\n",
       "            <td>it</td>\n",
       "            <td>Italy</td>\n",
       "            <td>301340</td>\n",
       "            <td>294140</td>\n",
       "            <td>7200</td>\n",
       "            <td>61855120</td>\n",
       "            <td>0.27</td>\n",
       "            <td>8.74</td>\n",
       "            <td>10.19</td>\n",
       "            <td>4.1</td>\n",
       "        </tr>\n",
       "        <tr>\n",
       "            <td>85</td>\n",
       "            <td>ja</td>\n",
       "            <td>Japan</td>\n",
       "            <td>377915</td>\n",
       "            <td>364485</td>\n",
       "            <td>13430</td>\n",
       "            <td>126919659</td>\n",
       "            <td>0.16</td>\n",
       "            <td>7.93</td>\n",
       "            <td>9.51</td>\n",
       "            <td>0.0</td>\n",
       "        </tr>\n",
       "        <tr>\n",
       "            <td>91</td>\n",
       "            <td>ks</td>\n",
       "            <td>Korea, South</td>\n",
       "            <td>99720</td>\n",
       "            <td>96920</td>\n",
       "            <td>2800</td>\n",
       "            <td>49115196</td>\n",
       "            <td>0.14</td>\n",
       "            <td>8.19</td>\n",
       "            <td>6.75</td>\n",
       "            <td>0.0</td>\n",
       "        </tr>\n",
       "        <tr>\n",
       "            <td>120</td>\n",
       "            <td>mo</td>\n",
       "            <td>Morocco</td>\n",
       "            <td>446550</td>\n",
       "            <td>446300</td>\n",
       "            <td>250</td>\n",
       "            <td>33322699</td>\n",
       "            <td>1.0</td>\n",
       "            <td>18.2</td>\n",
       "            <td>4.81</td>\n",
       "            <td>3.36</td>\n",
       "        </tr>\n",
       "        <tr>\n",
       "            <td>138</td>\n",
       "            <td>rp</td>\n",
       "            <td>Philippines</td>\n",
       "            <td>300000</td>\n",
       "            <td>298170</td>\n",
       "            <td>1830</td>\n",
       "            <td>100998376</td>\n",
       "            <td>1.61</td>\n",
       "            <td>24.27</td>\n",
       "            <td>6.11</td>\n",
       "            <td>2.09</td>\n",
       "        </tr>\n",
       "        <tr>\n",
       "            <td>139</td>\n",
       "            <td>pl</td>\n",
       "            <td>Poland</td>\n",
       "            <td>312685</td>\n",
       "            <td>304255</td>\n",
       "            <td>8430</td>\n",
       "            <td>38562189</td>\n",
       "            <td>0.09</td>\n",
       "            <td>9.74</td>\n",
       "            <td>10.19</td>\n",
       "            <td>0.46</td>\n",
       "        </tr>\n",
       "        <tr>\n",
       "            <td>163</td>\n",
       "            <td>sp</td>\n",
       "            <td>Spain</td>\n",
       "            <td>505370</td>\n",
       "            <td>498980</td>\n",
       "            <td>6390</td>\n",
       "            <td>48146134</td>\n",
       "            <td>0.89</td>\n",
       "            <td>9.64</td>\n",
       "            <td>9.04</td>\n",
       "            <td>8.31</td>\n",
       "        </tr>\n",
       "        <tr>\n",
       "            <td>173</td>\n",
       "            <td>th</td>\n",
       "            <td>Thailand</td>\n",
       "            <td>513120</td>\n",
       "            <td>510890</td>\n",
       "            <td>2230</td>\n",
       "            <td>67976405</td>\n",
       "            <td>0.34</td>\n",
       "            <td>11.19</td>\n",
       "            <td>7.8</td>\n",
       "            <td>0.0</td>\n",
       "        </tr>\n",
       "        <tr>\n",
       "            <td>182</td>\n",
       "            <td>ug</td>\n",
       "            <td>Uganda</td>\n",
       "            <td>241038</td>\n",
       "            <td>197100</td>\n",
       "            <td>43938</td>\n",
       "            <td>37101745</td>\n",
       "            <td>3.24</td>\n",
       "            <td>43.79</td>\n",
       "            <td>10.69</td>\n",
       "            <td>0.74</td>\n",
       "        </tr>\n",
       "        <tr>\n",
       "            <td>185</td>\n",
       "            <td>uk</td>\n",
       "            <td>United Kingdom</td>\n",
       "            <td>243610</td>\n",
       "            <td>241930</td>\n",
       "            <td>1680</td>\n",
       "            <td>64088222</td>\n",
       "            <td>0.54</td>\n",
       "            <td>12.17</td>\n",
       "            <td>9.35</td>\n",
       "            <td>2.54</td>\n",
       "        </tr>\n",
       "        <tr>\n",
       "            <td>192</td>\n",
       "            <td>vm</td>\n",
       "            <td>Vietnam</td>\n",
       "            <td>331210</td>\n",
       "            <td>310070</td>\n",
       "            <td>21140</td>\n",
       "            <td>94348835</td>\n",
       "            <td>0.97</td>\n",
       "            <td>15.96</td>\n",
       "            <td>5.93</td>\n",
       "            <td>0.3</td>\n",
       "        </tr>\n",
       "    </tbody>\n",
       "</table>"
      ],
      "text/plain": [
       "[(14, 'bg', 'Bangladesh', 148460, 130170, 18290, 168957745, 1.6, 21.14, 5.61, 0.46),\n",
       " (65, 'gm', 'Germany', 357022, 348672, 8350, 80854408, 0.17, 8.47, 11.42, 1.24),\n",
       " (80, 'iz', 'Iraq', 438317, 437367, 950, 37056169, 2.93, 31.45, 3.77, 1.62),\n",
       " (83, 'it', 'Italy', 301340, 294140, 7200, 61855120, 0.27, 8.74, 10.19, 4.1),\n",
       " (85, 'ja', 'Japan', 377915, 364485, 13430, 126919659, 0.16, 7.93, 9.51, 0.0),\n",
       " (91, 'ks', 'Korea, South', 99720, 96920, 2800, 49115196, 0.14, 8.19, 6.75, 0.0),\n",
       " (120, 'mo', 'Morocco', 446550, 446300, 250, 33322699, 1.0, 18.2, 4.81, 3.36),\n",
       " (138, 'rp', 'Philippines', 300000, 298170, 1830, 100998376, 1.61, 24.27, 6.11, 2.09),\n",
       " (139, 'pl', 'Poland', 312685, 304255, 8430, 38562189, 0.09, 9.74, 10.19, 0.46),\n",
       " (163, 'sp', 'Spain', 505370, 498980, 6390, 48146134, 0.89, 9.64, 9.04, 8.31),\n",
       " (173, 'th', 'Thailand', 513120, 510890, 2230, 67976405, 0.34, 11.19, 7.8, 0.0),\n",
       " (182, 'ug', 'Uganda', 241038, 197100, 43938, 37101745, 3.24, 43.79, 10.69, 0.74),\n",
       " (185, 'uk', 'United Kingdom', 243610, 241930, 1680, 64088222, 0.54, 12.17, 9.35, 2.54),\n",
       " (192, 'vm', 'Vietnam', 331210, 310070, 21140, 94348835, 0.97, 15.96, 5.93, 0.3)]"
      ]
     },
     "execution_count": 12,
     "metadata": {},
     "output_type": "execute_result"
    }
   ],
   "source": [
    "%%sql\n",
    "SELECT *\n",
    "  FROM facts\n",
    " WHERE population > (SELECT AVG(population)\n",
    "                       FROM facts\n",
    "                      WHERE name <> 'World'\n",
    "                    )\n",
    "   AND area < (SELECT AVG(area)\n",
    "                 FROM facts\n",
    "                WHERE name <> 'World'\n",
    ");"
   ]
  },
  {
   "cell_type": "markdown",
   "metadata": {},
   "source": [
    "Some of these countries are generally known to be densely populated, so we have confidence in our results!\n",
    "\n",
    "## Most populated country and highest growth rate\n",
    "\n",
    "Now, let's find out which country is the most populated and which country has the highest growth rate."
   ]
  },
  {
   "cell_type": "code",
   "execution_count": 13,
   "metadata": {},
   "outputs": [
    {
     "name": "stdout",
     "output_type": "stream",
     "text": [
      " * sqlite:///factbook.db\n",
      "Done.\n"
     ]
    },
    {
     "data": {
      "text/html": [
       "<table>\n",
       "    <thead>\n",
       "        <tr>\n",
       "            <th>name</th>\n",
       "            <th>population</th>\n",
       "        </tr>\n",
       "    </thead>\n",
       "    <tbody>\n",
       "        <tr>\n",
       "            <td>China</td>\n",
       "            <td>1367485388</td>\n",
       "        </tr>\n",
       "    </tbody>\n",
       "</table>"
      ],
      "text/plain": [
       "[('China', 1367485388)]"
      ]
     },
     "execution_count": 13,
     "metadata": {},
     "output_type": "execute_result"
    }
   ],
   "source": [
    "%%sql\n",
    "SELECT name, population\n",
    "FROM facts\n",
    "WHERE population = (SELECT MAX(population) FROM facts WHERE name <> 'World')"
   ]
  },
  {
   "cell_type": "markdown",
   "metadata": {},
   "source": [
    "The most populated country is China, with a population of approx. 1.37 billion."
   ]
  },
  {
   "cell_type": "code",
   "execution_count": 14,
   "metadata": {},
   "outputs": [
    {
     "name": "stdout",
     "output_type": "stream",
     "text": [
      " * sqlite:///factbook.db\n",
      "Done.\n"
     ]
    },
    {
     "data": {
      "text/html": [
       "<table>\n",
       "    <thead>\n",
       "        <tr>\n",
       "            <th>name</th>\n",
       "            <th>population_growth</th>\n",
       "        </tr>\n",
       "    </thead>\n",
       "    <tbody>\n",
       "        <tr>\n",
       "            <td>South Sudan</td>\n",
       "            <td>4.02</td>\n",
       "        </tr>\n",
       "    </tbody>\n",
       "</table>"
      ],
      "text/plain": [
       "[('South Sudan', 4.02)]"
      ]
     },
     "execution_count": 14,
     "metadata": {},
     "output_type": "execute_result"
    }
   ],
   "source": [
    "%%sql\n",
    "SELECT name, population_growth\n",
    "FROM facts\n",
    "WHERE population_growth = (SELECT MAX(population_growth) FROM facts WHERE name <> 'World')\n"
   ]
  },
  {
   "cell_type": "markdown",
   "metadata": {},
   "source": [
    "The country with the highest growth rate is South Sudan, with 4.02%"
   ]
  },
  {
   "cell_type": "markdown",
   "metadata": {},
   "source": [
    "## Top 10 and bottom 10 populated countries"
   ]
  },
  {
   "cell_type": "markdown",
   "metadata": {},
   "source": [
    "Now, let's have a closer look at the countries with the highest population."
   ]
  },
  {
   "cell_type": "code",
   "execution_count": 21,
   "metadata": {},
   "outputs": [
    {
     "name": "stdout",
     "output_type": "stream",
     "text": [
      " * sqlite:///factbook.db\n",
      "Done.\n"
     ]
    },
    {
     "data": {
      "text/html": [
       "<table>\n",
       "    <thead>\n",
       "        <tr>\n",
       "            <th>name</th>\n",
       "            <th>top5_population</th>\n",
       "        </tr>\n",
       "    </thead>\n",
       "    <tbody>\n",
       "        <tr>\n",
       "            <td>China</td>\n",
       "            <td>1367485388</td>\n",
       "        </tr>\n",
       "        <tr>\n",
       "            <td>India</td>\n",
       "            <td>1251695584</td>\n",
       "        </tr>\n",
       "        <tr>\n",
       "            <td>European Union</td>\n",
       "            <td>513949445</td>\n",
       "        </tr>\n",
       "        <tr>\n",
       "            <td>United States</td>\n",
       "            <td>321368864</td>\n",
       "        </tr>\n",
       "        <tr>\n",
       "            <td>Indonesia</td>\n",
       "            <td>255993674</td>\n",
       "        </tr>\n",
       "        <tr>\n",
       "            <td>Brazil</td>\n",
       "            <td>204259812</td>\n",
       "        </tr>\n",
       "        <tr>\n",
       "            <td>Pakistan</td>\n",
       "            <td>199085847</td>\n",
       "        </tr>\n",
       "        <tr>\n",
       "            <td>Nigeria</td>\n",
       "            <td>181562056</td>\n",
       "        </tr>\n",
       "        <tr>\n",
       "            <td>Bangladesh</td>\n",
       "            <td>168957745</td>\n",
       "        </tr>\n",
       "        <tr>\n",
       "            <td>Russia</td>\n",
       "            <td>142423773</td>\n",
       "        </tr>\n",
       "    </tbody>\n",
       "</table>"
      ],
      "text/plain": [
       "[('China', 1367485388),\n",
       " ('India', 1251695584),\n",
       " ('European Union', 513949445),\n",
       " ('United States', 321368864),\n",
       " ('Indonesia', 255993674),\n",
       " ('Brazil', 204259812),\n",
       " ('Pakistan', 199085847),\n",
       " ('Nigeria', 181562056),\n",
       " ('Bangladesh', 168957745),\n",
       " ('Russia', 142423773)]"
      ]
     },
     "execution_count": 21,
     "metadata": {},
     "output_type": "execute_result"
    }
   ],
   "source": [
    "%%sql\n",
    "SELECT name, population as top5_population\n",
    "FROM facts\n",
    "WHERE name <> 'World'\n",
    "ORDER BY population DESC\n",
    "LIMIT 10;"
   ]
  },
  {
   "cell_type": "markdown",
   "metadata": {},
   "source": [
    "We notice that the European Union is listed as a country, which doesn't make sense. It would be better to exlude it. Let's do that."
   ]
  },
  {
   "cell_type": "code",
   "execution_count": 25,
   "metadata": {},
   "outputs": [
    {
     "name": "stdout",
     "output_type": "stream",
     "text": [
      " * sqlite:///factbook.db\n",
      "Done.\n"
     ]
    },
    {
     "data": {
      "text/html": [
       "<table>\n",
       "    <thead>\n",
       "        <tr>\n",
       "            <th>name</th>\n",
       "            <th>top5_population</th>\n",
       "        </tr>\n",
       "    </thead>\n",
       "    <tbody>\n",
       "        <tr>\n",
       "            <td>China</td>\n",
       "            <td>1367485388</td>\n",
       "        </tr>\n",
       "        <tr>\n",
       "            <td>India</td>\n",
       "            <td>1251695584</td>\n",
       "        </tr>\n",
       "        <tr>\n",
       "            <td>United States</td>\n",
       "            <td>321368864</td>\n",
       "        </tr>\n",
       "        <tr>\n",
       "            <td>Indonesia</td>\n",
       "            <td>255993674</td>\n",
       "        </tr>\n",
       "        <tr>\n",
       "            <td>Brazil</td>\n",
       "            <td>204259812</td>\n",
       "        </tr>\n",
       "        <tr>\n",
       "            <td>Pakistan</td>\n",
       "            <td>199085847</td>\n",
       "        </tr>\n",
       "        <tr>\n",
       "            <td>Nigeria</td>\n",
       "            <td>181562056</td>\n",
       "        </tr>\n",
       "        <tr>\n",
       "            <td>Bangladesh</td>\n",
       "            <td>168957745</td>\n",
       "        </tr>\n",
       "        <tr>\n",
       "            <td>Russia</td>\n",
       "            <td>142423773</td>\n",
       "        </tr>\n",
       "        <tr>\n",
       "            <td>Japan</td>\n",
       "            <td>126919659</td>\n",
       "        </tr>\n",
       "    </tbody>\n",
       "</table>"
      ],
      "text/plain": [
       "[('China', 1367485388),\n",
       " ('India', 1251695584),\n",
       " ('United States', 321368864),\n",
       " ('Indonesia', 255993674),\n",
       " ('Brazil', 204259812),\n",
       " ('Pakistan', 199085847),\n",
       " ('Nigeria', 181562056),\n",
       " ('Bangladesh', 168957745),\n",
       " ('Russia', 142423773),\n",
       " ('Japan', 126919659)]"
      ]
     },
     "execution_count": 25,
     "metadata": {},
     "output_type": "execute_result"
    }
   ],
   "source": [
    "%%sql\n",
    "SELECT name, population AS top5_population\n",
    "  FROM facts\n",
    "WHERE name != 'World' \n",
    "  AND name != 'European Union'\n",
    "ORDER BY population DESC\n",
    "LIMIT 10;"
   ]
  },
  {
   "cell_type": "markdown",
   "metadata": {},
   "source": [
    "We see that the most populated country is **China** (which we saw earlier), followed by **India**, then with a big gap by the **United States**, **Indonesia**, and **Brazil**."
   ]
  },
  {
   "cell_type": "code",
   "execution_count": 26,
   "metadata": {},
   "outputs": [
    {
     "name": "stdout",
     "output_type": "stream",
     "text": [
      " * sqlite:///factbook.db\n",
      "Done.\n"
     ]
    },
    {
     "data": {
      "text/html": [
       "<table>\n",
       "    <thead>\n",
       "        <tr>\n",
       "            <th>name</th>\n",
       "            <th>bottom5_population</th>\n",
       "        </tr>\n",
       "    </thead>\n",
       "    <tbody>\n",
       "        <tr>\n",
       "            <td>Pitcairn Islands</td>\n",
       "            <td>48</td>\n",
       "        </tr>\n",
       "        <tr>\n",
       "            <td>Cocos (Keeling) Islands</td>\n",
       "            <td>596</td>\n",
       "        </tr>\n",
       "        <tr>\n",
       "            <td>Holy See (Vatican City)</td>\n",
       "            <td>842</td>\n",
       "        </tr>\n",
       "        <tr>\n",
       "            <td>Niue</td>\n",
       "            <td>1190</td>\n",
       "        </tr>\n",
       "        <tr>\n",
       "            <td>Tokelau</td>\n",
       "            <td>1337</td>\n",
       "        </tr>\n",
       "        <tr>\n",
       "            <td>Christmas Island</td>\n",
       "            <td>1530</td>\n",
       "        </tr>\n",
       "        <tr>\n",
       "            <td>Svalbard</td>\n",
       "            <td>1872</td>\n",
       "        </tr>\n",
       "        <tr>\n",
       "            <td>Norfolk Island</td>\n",
       "            <td>2210</td>\n",
       "        </tr>\n",
       "        <tr>\n",
       "            <td>Falkland Islands (Islas Malvinas)</td>\n",
       "            <td>3361</td>\n",
       "        </tr>\n",
       "        <tr>\n",
       "            <td>Montserrat</td>\n",
       "            <td>5241</td>\n",
       "        </tr>\n",
       "    </tbody>\n",
       "</table>"
      ],
      "text/plain": [
       "[('Pitcairn Islands', 48),\n",
       " ('Cocos (Keeling) Islands', 596),\n",
       " ('Holy See (Vatican City)', 842),\n",
       " ('Niue', 1190),\n",
       " ('Tokelau', 1337),\n",
       " ('Christmas Island', 1530),\n",
       " ('Svalbard', 1872),\n",
       " ('Norfolk Island', 2210),\n",
       " ('Falkland Islands (Islas Malvinas)', 3361),\n",
       " ('Montserrat', 5241)]"
      ]
     },
     "execution_count": 26,
     "metadata": {},
     "output_type": "execute_result"
    }
   ],
   "source": [
    "%%sql\n",
    "SELECT name, population as bottom5_population\n",
    "FROM facts\n",
    "WHERE name != 'Antarctica'\n",
    "  AND population NOT NULL\n",
    "ORDER BY population\n",
    "LIMIT 10;"
   ]
  },
  {
   "cell_type": "markdown",
   "metadata": {},
   "source": [
    "For the BOTTOM5 countries, everything is coherent. The **Pitcairn Islands**, or just Pitcairn, located in the southern Pacific Ocean, are the least populous national jurisdiction in the world. **Niue** and **Tokelau** are also very isolated islands in the southern Pacific Ocean, while **Cocos Islands** – in the Indian Ocean. Among the BOTTOM5 countries by population, not surprisingly, there is also the microstate **Vatican**.\n",
    "\n",
    "In our database, there are some territories with null values of the population."
   ]
  },
  {
   "cell_type": "code",
   "execution_count": 27,
   "metadata": {},
   "outputs": [
    {
     "name": "stdout",
     "output_type": "stream",
     "text": [
      " * sqlite:///factbook.db\n",
      "Done.\n"
     ]
    },
    {
     "data": {
      "text/html": [
       "<table>\n",
       "    <thead>\n",
       "        <tr>\n",
       "            <th>name</th>\n",
       "            <th>population</th>\n",
       "        </tr>\n",
       "    </thead>\n",
       "    <tbody>\n",
       "        <tr>\n",
       "            <td>Ashmore and Cartier Islands</td>\n",
       "            <td>None</td>\n",
       "        </tr>\n",
       "        <tr>\n",
       "            <td>Coral Sea Islands</td>\n",
       "            <td>None</td>\n",
       "        </tr>\n",
       "        <tr>\n",
       "            <td>Heard Island and McDonald Islands</td>\n",
       "            <td>None</td>\n",
       "        </tr>\n",
       "        <tr>\n",
       "            <td>Clipperton Island</td>\n",
       "            <td>None</td>\n",
       "        </tr>\n",
       "        <tr>\n",
       "            <td>French Southern and Antarctic Lands</td>\n",
       "            <td>None</td>\n",
       "        </tr>\n",
       "        <tr>\n",
       "            <td>Bouvet Island</td>\n",
       "            <td>None</td>\n",
       "        </tr>\n",
       "        <tr>\n",
       "            <td>Jan Mayen</td>\n",
       "            <td>None</td>\n",
       "        </tr>\n",
       "        <tr>\n",
       "            <td>British Indian Ocean Territory</td>\n",
       "            <td>None</td>\n",
       "        </tr>\n",
       "        <tr>\n",
       "            <td>South Georgia and South Sandwich Islands</td>\n",
       "            <td>None</td>\n",
       "        </tr>\n",
       "        <tr>\n",
       "            <td>Navassa Island</td>\n",
       "            <td>None</td>\n",
       "        </tr>\n",
       "        <tr>\n",
       "            <td>Wake Island</td>\n",
       "            <td>None</td>\n",
       "        </tr>\n",
       "        <tr>\n",
       "            <td>United States Pacific Island Wildlife Refuges</td>\n",
       "            <td>None</td>\n",
       "        </tr>\n",
       "        <tr>\n",
       "            <td>Paracel Islands</td>\n",
       "            <td>None</td>\n",
       "        </tr>\n",
       "        <tr>\n",
       "            <td>Spratly Islands</td>\n",
       "            <td>None</td>\n",
       "        </tr>\n",
       "        <tr>\n",
       "            <td>Arctic Ocean</td>\n",
       "            <td>None</td>\n",
       "        </tr>\n",
       "        <tr>\n",
       "            <td>Atlantic Ocean</td>\n",
       "            <td>None</td>\n",
       "        </tr>\n",
       "        <tr>\n",
       "            <td>Indian Ocean</td>\n",
       "            <td>None</td>\n",
       "        </tr>\n",
       "        <tr>\n",
       "            <td>Pacific Ocean</td>\n",
       "            <td>None</td>\n",
       "        </tr>\n",
       "        <tr>\n",
       "            <td>Southern Ocean</td>\n",
       "            <td>None</td>\n",
       "        </tr>\n",
       "    </tbody>\n",
       "</table>"
      ],
      "text/plain": [
       "[('Ashmore and Cartier Islands', None),\n",
       " ('Coral Sea Islands', None),\n",
       " ('Heard Island and McDonald Islands', None),\n",
       " ('Clipperton Island', None),\n",
       " ('French Southern and Antarctic Lands', None),\n",
       " ('Bouvet Island', None),\n",
       " ('Jan Mayen', None),\n",
       " ('British Indian Ocean Territory', None),\n",
       " ('South Georgia and South Sandwich Islands', None),\n",
       " ('Navassa Island', None),\n",
       " ('Wake Island', None),\n",
       " ('United States Pacific Island Wildlife Refuges', None),\n",
       " ('Paracel Islands', None),\n",
       " ('Spratly Islands', None),\n",
       " ('Arctic Ocean', None),\n",
       " ('Atlantic Ocean', None),\n",
       " ('Indian Ocean', None),\n",
       " ('Pacific Ocean', None),\n",
       " ('Southern Ocean', None)]"
      ]
     },
     "execution_count": 27,
     "metadata": {},
     "output_type": "execute_result"
    }
   ],
   "source": [
    "%%sql\n",
    "SELECT name, population\n",
    "  FROM facts\n",
    "WHERE population IS NULL;"
   ]
  },
  {
   "cell_type": "markdown",
   "metadata": {},
   "source": [
    "All these territories represent either different uninhabited islands or the oceans."
   ]
  },
  {
   "cell_type": "markdown",
   "metadata": {},
   "source": []
  }
 ],
 "metadata": {
  "interpreter": {
   "hash": "f76fe04991faffe06b4e1a4e6744c6f68f9ce7041f320ae590fc5c63dfb555f9"
  },
  "kernelspec": {
   "display_name": "Python 3.9.12",
   "language": "python",
   "name": "python3"
  },
  "language_info": {
   "codemirror_mode": {
    "name": "ipython",
    "version": 3
   },
   "file_extension": ".py",
   "mimetype": "text/x-python",
   "name": "python",
   "nbconvert_exporter": "python",
   "pygments_lexer": "ipython3",
   "version": "3.9.12"
  }
 },
 "nbformat": 4,
 "nbformat_minor": 2
}
